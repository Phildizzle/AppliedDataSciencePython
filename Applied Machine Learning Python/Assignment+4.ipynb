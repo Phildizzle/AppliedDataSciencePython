{
 "cells": [
  {
   "cell_type": "markdown",
   "metadata": {},
   "source": [
    "---\n",
    "\n",
    "_You are currently looking at **version 1.0** of this notebook. To download notebooks and datafiles, as well as get help on Jupyter notebooks in the Coursera platform, visit the [Jupyter Notebook FAQ](https://www.coursera.org/learn/python-machine-learning/resources/bANLa) course resource._\n",
    "\n",
    "---"
   ]
  },
  {
   "cell_type": "markdown",
   "metadata": {},
   "source": [
    "## Assignment 4 - Understanding and Predicting Property Maintenance Fines\n",
    "\n",
    "This assignment is based on a data challenge from the Michigan Data Science Team ([MDST](http://midas.umich.edu/mdst/)). \n",
    "\n",
    "The Michigan Data Science Team ([MDST](http://midas.umich.edu/mdst/)) and the Michigan Student Symposium for Interdisciplinary Statistical Sciences ([MSSISS](https://sites.lsa.umich.edu/mssiss/)) have partnered with the City of Detroit to help solve one of the most pressing problems facing Detroit - blight. [Blight violations](http://www.detroitmi.gov/How-Do-I/Report/Blight-Complaint-FAQs) are issued by the city to individuals who allow their properties to remain in a deteriorated condition. Every year, the city of Detroit issues millions of dollars in fines to residents and every year, many of these fines remain unpaid. Enforcing unpaid blight fines is a costly and tedious process, so the city wants to know: how can we increase blight ticket compliance?\n",
    "\n",
    "The first step in answering this question is understanding when and why a resident might fail to comply with a blight ticket. This is where predictive modeling comes in. For this assignment, your task is to predict whether a given blight ticket will be paid on time.\n",
    "\n",
    "All data for this assignment has been provided to us through the [Detroit Open Data Portal](https://data.detroitmi.gov/). **Only the data already included in your Coursera directory can be used for training the model for this assignment.** Nonetheless, we encourage you to look into data from other Detroit datasets to help inform feature creation and model selection. We recommend taking a look at the following related datasets:\n",
    "\n",
    "* [Building Permits](https://data.detroitmi.gov/Property-Parcels/Building-Permits/xw2a-a7tf)\n",
    "* [Trades Permits](https://data.detroitmi.gov/Property-Parcels/Trades-Permits/635b-dsgv)\n",
    "* [Improve Detroit: Submitted Issues](https://data.detroitmi.gov/Government/Improve-Detroit-Submitted-Issues/fwz3-w3yn)\n",
    "* [DPD: Citizen Complaints](https://data.detroitmi.gov/Public-Safety/DPD-Citizen-Complaints-2016/kahe-efs3)\n",
    "* [Parcel Map](https://data.detroitmi.gov/Property-Parcels/Parcel-Map/fxkw-udwf)\n",
    "\n",
    "___\n",
    "\n",
    "We provide you with two data files for use in training and validating your models: train.csv and test.csv. Each row in these two files corresponds to a single blight ticket, and includes information about when, why, and to whom each ticket was issued. The target variable is compliance, which is True if the ticket was paid early, on time, or within one month of the hearing data, False if the ticket was paid after the hearing date or not at all, and Null if the violator was found not responsible. Compliance, as well as a handful of other variables that will not be available at test-time, are only included in train.csv.\n",
    "\n",
    "Note: All tickets where the violators were found not responsible are not considered during evaluation. They are included in the training set as an additional source of data for visualization, and to enable unsupervised and semi-supervised approaches. However, they are not included in the test set.\n",
    "\n",
    "<br>\n",
    "\n",
    "**File descriptions** (Use only this data for training your model!)\n",
    "\n",
    "    train.csv - the training set (all tickets issued 2004-2011)\n",
    "    test.csv - the test set (all tickets issued 2012-2016)\n",
    "    addresses.csv & latlons.csv - mapping from ticket id to addresses, and from addresses to lat/lon coordinates. \n",
    "     Note: misspelled addresses may be incorrectly geolocated.\n",
    "\n",
    "<br>\n",
    "\n",
    "**Data fields**\n",
    "\n",
    "train.csv & test.csv\n",
    "\n",
    "    ticket_id - unique identifier for tickets\n",
    "    agency_name - Agency that issued the ticket\n",
    "    inspector_name - Name of inspector that issued the ticket\n",
    "    violator_name - Name of the person/organization that the ticket was issued to\n",
    "    violation_street_number, violation_street_name, violation_zip_code - Address where the violation occurred\n",
    "    mailing_address_str_number, mailing_address_str_name, city, state, zip_code, non_us_str_code, country - Mailing address of the violator\n",
    "    ticket_issued_date - Date and time the ticket was issued\n",
    "    hearing_date - Date and time the violator's hearing was scheduled\n",
    "    violation_code, violation_description - Type of violation\n",
    "    disposition - Judgment and judgement type\n",
    "    fine_amount - Violation fine amount, excluding fees\n",
    "    admin_fee - $20 fee assigned to responsible judgments\n",
    "state_fee - $10 fee assigned to responsible judgments\n",
    "    late_fee - 10% fee assigned to responsible judgments\n",
    "    discount_amount - discount applied, if any\n",
    "    clean_up_cost - DPW clean-up or graffiti removal cost\n",
    "    judgment_amount - Sum of all fines and fees\n",
    "    grafitti_status - Flag for graffiti violations\n",
    "    \n",
    "train.csv only\n",
    "\n",
    "    payment_amount - Amount paid, if any\n",
    "    payment_date - Date payment was made, if it was received\n",
    "    payment_status - Current payment status as of Feb 1 2017\n",
    "    balance_due - Fines and fees still owed\n",
    "    collection_status - Flag for payments in collections\n",
    "    compliance [target variable for prediction] \n",
    "     Null = Not responsible\n",
    "     0 = Responsible, non-compliant\n",
    "     1 = Responsible, compliant\n",
    "    compliance_detail - More information on why each ticket was marked compliant or non-compliant\n",
    "\n",
    "\n",
    "___\n",
    "\n",
    "## Evaluation\n",
    "\n",
    "Your predictions will be given as the probability that the corresponding blight ticket will be paid on time.\n",
    "\n",
    "The evaluation metric for this assignment is the Area Under the ROC Curve (AUC). \n",
    "\n",
    "Your grade will be based on the AUC score computed for your classifier. A model which with an AUROC of 0.7 passes this assignment, over 0.75 will recieve full points.\n",
    "___\n",
    "\n",
    "For this assignment, create a function that trains a model to predict blight ticket compliance in Detroit using `train.csv`. Using this model, return a series of length 61001 with the data being the probability that each corresponding ticket from `test.csv` will be paid, and the index being the ticket_id.\n",
    "\n",
    "Example:\n",
    "\n",
    "    ticket_id\n",
    "       284932    0.531842\n",
    "       285362    0.401958\n",
    "       285361    0.105928\n",
    "       285338    0.018572\n",
    "                 ...\n",
    "       376499    0.208567\n",
    "       376500    0.818759\n",
    "       369851    0.018528\n",
    "       Name: compliance, dtype: float32"
   ]
  },
  {
   "cell_type": "markdown",
   "metadata": {},
   "source": [
    "## 1. Set up environment load data\n",
    "\n",
    "First, let's load the important modules as well as our data sets and take a cursory look at them to get an understanding of their dimensions, features etc."
   ]
  },
  {
   "cell_type": "code",
   "execution_count": 1,
   "metadata": {
    "collapsed": true
   },
   "outputs": [],
   "source": [
    "import numpy as np\n",
    "import pandas as pd"
   ]
  },
  {
   "cell_type": "code",
   "execution_count": 2,
   "metadata": {
    "collapsed": false
   },
   "outputs": [
    {
     "name": "stdout",
     "output_type": "stream",
     "text": [
      "   ticket_id                                     agency_name  \\\n",
      "0      22056  Buildings, Safety Engineering & Env Department   \n",
      "1      27586  Buildings, Safety Engineering & Env Department   \n",
      "2      22062  Buildings, Safety Engineering & Env Department   \n",
      "3      22084  Buildings, Safety Engineering & Env Department   \n",
      "4      22093  Buildings, Safety Engineering & Env Department   \n",
      "\n",
      "     inspector_name                      violator_name  \\\n",
      "0   Sims, Martinzie  INVESTMENT INC., MIDWEST MORTGAGE   \n",
      "1  Williams, Darrin           Michigan, Covenant House   \n",
      "2   Sims, Martinzie                    SANDERS, DERRON   \n",
      "3   Sims, Martinzie                       MOROSI, MIKE   \n",
      "4   Sims, Martinzie                    NATHANIEL, NEAL   \n",
      "\n",
      "   violation_street_number violation_street_name  violation_zip_code  \\\n",
      "0                   2900.0                 TYLER                 NaN   \n",
      "1                   4311.0               CENTRAL                 NaN   \n",
      "2                   1449.0            LONGFELLOW                 NaN   \n",
      "3                   1441.0            LONGFELLOW                 NaN   \n",
      "4                   2449.0             CHURCHILL                 NaN   \n",
      "\n",
      "   mailing_address_str_number mailing_address_str_name     city     ...      \\\n",
      "0                         3.0                S. WICKER  CHICAGO     ...       \n",
      "1                      2959.0       Martin Luther King  Detroit     ...       \n",
      "2                     23658.0                 P.O. BOX  DETROIT     ...       \n",
      "3                         5.0                ST. CLAIR  DETROIT     ...       \n",
      "4                      7449.0                CHURCHILL  DETROIT     ...       \n",
      "\n",
      "  clean_up_cost judgment_amount payment_amount balance_due  \\\n",
      "0           0.0           305.0            0.0       305.0   \n",
      "1           0.0           855.0          780.0        75.0   \n",
      "2           0.0             0.0            0.0         0.0   \n",
      "3           0.0             0.0            0.0         0.0   \n",
      "4           0.0             0.0            0.0         0.0   \n",
      "\n",
      "          payment_date      payment_status collection_status grafitti_status  \\\n",
      "0                  NaN  NO PAYMENT APPLIED               NaN             NaN   \n",
      "1  2005-06-02 00:00:00        PAID IN FULL               NaN             NaN   \n",
      "2                  NaN  NO PAYMENT APPLIED               NaN             NaN   \n",
      "3                  NaN  NO PAYMENT APPLIED               NaN             NaN   \n",
      "4                  NaN  NO PAYMENT APPLIED               NaN             NaN   \n",
      "\n",
      "                          compliance_detail  compliance  \n",
      "0               non-compliant by no payment         0.0  \n",
      "1  compliant by late payment within 1 month         1.0  \n",
      "2            not responsible by disposition         NaN  \n",
      "3            not responsible by disposition         NaN  \n",
      "4            not responsible by disposition         NaN  \n",
      "\n",
      "[5 rows x 34 columns]\n",
      "(250306, 34)\n"
     ]
    },
    {
     "name": "stderr",
     "output_type": "stream",
     "text": [
      "/opt/conda/lib/python3.5/site-packages/IPython/core/interactiveshell.py:2717: DtypeWarning: Columns (11,12,31) have mixed types. Specify dtype option on import or set low_memory=False.\n",
      "  interactivity=interactivity, compiler=compiler, result=result)\n"
     ]
    }
   ],
   "source": [
    "train =  pd.read_csv('train.csv', encoding = 'latin1')\n",
    "print(train.head())\n",
    "print(train.shape)"
   ]
  },
  {
   "cell_type": "code",
   "execution_count": 3,
   "metadata": {
    "collapsed": true
   },
   "outputs": [],
   "source": [
    "# Encode our variable to be predicted\n",
    "train = train[(train['compliance'] == 0) | (train['compliance'] == 1)]"
   ]
  },
  {
   "cell_type": "code",
   "execution_count": 4,
   "metadata": {
    "collapsed": false,
    "scrolled": true
   },
   "outputs": [
    {
     "name": "stdout",
     "output_type": "stream",
     "text": [
      "   ticket_id                 agency_name      inspector_name  \\\n",
      "0     284932  Department of Public Works  Granberry, Aisha B   \n",
      "1     285362  Department of Public Works      Lusk, Gertrina   \n",
      "2     285361  Department of Public Works      Lusk, Gertrina   \n",
      "3     285338  Department of Public Works   Talbert, Reginald   \n",
      "4     285346  Department of Public Works   Talbert, Reginald   \n",
      "\n",
      "        violator_name  violation_street_number violation_street_name  \\\n",
      "0    FLUELLEN, JOHN A                  10041.0             ROSEBERRY   \n",
      "1     WHIGHAM, THELMA                  18520.0             EVERGREEN   \n",
      "2     WHIGHAM, THELMA                  18520.0             EVERGREEN   \n",
      "3  HARABEDIEN, POPKIN                   1835.0               CENTRAL   \n",
      "4    CORBELL, STANLEY                   1700.0               CENTRAL   \n",
      "\n",
      "  violation_zip_code mailing_address_str_number mailing_address_str_name  \\\n",
      "0                NaN                        141                ROSEBERRY   \n",
      "1                NaN                      19136              GLASTONBURY   \n",
      "2                NaN                      19136              GLASTONBURY   \n",
      "3                NaN                       2246                   NELSON   \n",
      "4                NaN                       3435                   MUNGER   \n",
      "\n",
      "        city       ...         \\\n",
      "0    DETROIT       ...          \n",
      "1    DETROIT       ...          \n",
      "2    DETROIT       ...          \n",
      "3  WOODHAVEN       ...          \n",
      "4    LIVONIA       ...          \n",
      "\n",
      "                               violation_description             disposition  \\\n",
      "0  Failure to secure City or Private solid waste ...  Responsible by Default   \n",
      "1  Allowing bulk solid waste to lie or accumulate...  Responsible by Default   \n",
      "2  Improper placement of Courville container betw...  Responsible by Default   \n",
      "3  Allowing bulk solid waste to lie or accumulate...  Responsible by Default   \n",
      "4  Violation of time limit for approved container...  Responsible by Default   \n",
      "\n",
      "   fine_amount admin_fee state_fee late_fee discount_amount clean_up_cost  \\\n",
      "0        200.0      20.0      10.0     20.0             0.0           0.0   \n",
      "1       1000.0      20.0      10.0    100.0             0.0           0.0   \n",
      "2        100.0      20.0      10.0     10.0             0.0           0.0   \n",
      "3        200.0      20.0      10.0     20.0             0.0           0.0   \n",
      "4        100.0      20.0      10.0     10.0             0.0           0.0   \n",
      "\n",
      "  judgment_amount  grafitti_status  \n",
      "0           250.0              NaN  \n",
      "1          1130.0              NaN  \n",
      "2           140.0              NaN  \n",
      "3           250.0              NaN  \n",
      "4           140.0              NaN  \n",
      "\n",
      "[5 rows x 27 columns]\n",
      "(61001, 27)\n"
     ]
    }
   ],
   "source": [
    "test = pd.read_csv('test.csv')\n",
    "print(test.head())\n",
    "print(test.shape)"
   ]
  },
  {
   "cell_type": "code",
   "execution_count": 5,
   "metadata": {
    "collapsed": false
   },
   "outputs": [
    {
     "name": "stdout",
     "output_type": "stream",
     "text": [
      "   ticket_id                      address\n",
      "0      22056       2900 tyler, Detroit MI\n",
      "1      27586     4311 central, Detroit MI\n",
      "2      22062  1449 longfellow, Detroit MI\n",
      "3      22084  1441 longfellow, Detroit MI\n",
      "4      22093   2449 churchill, Detroit MI\n",
      "(311307, 2)\n"
     ]
    }
   ],
   "source": [
    "addresses =  pd.read_csv('addresses.csv')\n",
    "print(addresses.head())\n",
    "print(addresses.shape)"
   ]
  },
  {
   "cell_type": "code",
   "execution_count": 6,
   "metadata": {
    "collapsed": false
   },
   "outputs": [
    {
     "name": "stdout",
     "output_type": "stream",
     "text": [
      "                                  address        lat        lon\n",
      "0  4300 rosa parks blvd, Detroit MI 48208  42.346169 -83.079962\n",
      "1                14512 sussex, Detroit MI  42.394657 -83.194265\n",
      "2                3456 garland, Detroit MI  42.373779 -82.986228\n",
      "3                5787 wayburn, Detroit MI  42.403342 -82.957805\n",
      "4              5766 haverhill, Detroit MI  42.407255 -82.946295\n",
      "(121769, 3)\n"
     ]
    }
   ],
   "source": [
    "latlons = pd.read_csv('latlons.csv')\n",
    "print(latlons.head())\n",
    "print(latlons.shape)"
   ]
  },
  {
   "cell_type": "markdown",
   "metadata": {
    "collapsed": true
   },
   "source": [
    "As data scientists we can't really do anything about the misspelled adresses, but I looked at the distributon of lat and lon and they seem alright enough."
   ]
  },
  {
   "cell_type": "code",
   "execution_count": 7,
   "metadata": {
    "collapsed": false
   },
   "outputs": [],
   "source": [
    "#import seaborn as sns\n",
    "#import matplotlib.pyplot as plt\n",
    "#%matplotlib inline\n",
    "\n",
    "#latlons = latlons[~np.isnan(latlons.lat)]\n",
    "#latlons\n",
    "#sns.set(color_codes = True)\n",
    "#sns.distplot(latlons['lat'], kde=False, rug=True)\n",
    "# same goes for the lon column"
   ]
  },
  {
   "cell_type": "markdown",
   "metadata": {
    "collapsed": true
   },
   "source": [
    "We need to join all data sets in order to get one training data set. Thereby, we have to join the address and latlons data sets with the train data set. First we use 'adress' as a primary key and second the 'ticket_id' will serve as an index."
   ]
  },
  {
   "cell_type": "code",
   "execution_count": 8,
   "metadata": {
    "collapsed": false
   },
   "outputs": [
    {
     "name": "stdout",
     "output_type": "stream",
     "text": [
      "                                              agency_name    inspector_name  \\\n",
      "ticket_id                                                                     \n",
      "22056      Buildings, Safety Engineering & Env Department   Sims, Martinzie   \n",
      "27586      Buildings, Safety Engineering & Env Department  Williams, Darrin   \n",
      "22046      Buildings, Safety Engineering & Env Department   Sims, Martinzie   \n",
      "18738      Buildings, Safety Engineering & Env Department  Williams, Darrin   \n",
      "18735      Buildings, Safety Engineering & Env Department  Williams, Darrin   \n",
      "\n",
      "                                  violator_name  violation_street_number  \\\n",
      "ticket_id                                                                  \n",
      "22056         INVESTMENT INC., MIDWEST MORTGAGE                   2900.0   \n",
      "27586                  Michigan, Covenant House                   4311.0   \n",
      "22046                            KASIMU, UKWELI                   6478.0   \n",
      "18738      Deerwood Development Group Inc, Deer                   8027.0   \n",
      "18735           Rafee Auto Services L.L.C., RAF                   8228.0   \n",
      "\n",
      "          violation_street_name  violation_zip_code  \\\n",
      "ticket_id                                             \n",
      "22056                     TYLER                 NaN   \n",
      "27586                   CENTRAL                 NaN   \n",
      "22046                NORTHFIELD                 NaN   \n",
      "18738                 BRENTWOOD                 NaN   \n",
      "18735                MT ELLIOTT                 NaN   \n",
      "\n",
      "           mailing_address_str_number mailing_address_str_name       city  \\\n",
      "ticket_id                                                                   \n",
      "22056                             3.0                S. WICKER    CHICAGO   \n",
      "27586                          2959.0       Martin Luther King    Detroit   \n",
      "22046                          2755.0                  E. 17TH  LOG BEACH   \n",
      "18738                           476.0                 Garfield    Clinton   \n",
      "18735                          8228.0              Mt. Elliott    Detroit   \n",
      "\n",
      "          state    ...     payment_amount balance_due         payment_date  \\\n",
      "ticket_id          ...                                                       \n",
      "22056        IL    ...                0.0       305.0                  NaN   \n",
      "27586        MI    ...              780.0        75.0  2005-06-02 00:00:00   \n",
      "22046        CA    ...                0.0       305.0                  NaN   \n",
      "18738        MI    ...                0.0       855.0                  NaN   \n",
      "18735        MI    ...                0.0       140.0                  NaN   \n",
      "\n",
      "               payment_status collection_status grafitti_status  \\\n",
      "ticket_id                                                         \n",
      "22056      NO PAYMENT APPLIED               NaN             NaN   \n",
      "27586            PAID IN FULL               NaN             NaN   \n",
      "22046      NO PAYMENT APPLIED               NaN             NaN   \n",
      "18738      NO PAYMENT APPLIED               NaN             NaN   \n",
      "18735      NO PAYMENT APPLIED               NaN             NaN   \n",
      "\n",
      "                                  compliance_detail compliance        lat  \\\n",
      "ticket_id                                                                   \n",
      "22056                   non-compliant by no payment        0.0  42.390729   \n",
      "27586      compliant by late payment within 1 month        1.0  42.326937   \n",
      "22046                   non-compliant by no payment        0.0  42.145257   \n",
      "18738                   non-compliant by no payment        0.0  42.433466   \n",
      "18735                   non-compliant by no payment        0.0  42.388641   \n",
      "\n",
      "                 lon  \n",
      "ticket_id             \n",
      "22056     -83.124268  \n",
      "27586     -83.135118  \n",
      "22046     -83.208233  \n",
      "18738     -83.023493  \n",
      "18735     -83.037858  \n",
      "\n",
      "[5 rows x 35 columns]\n",
      "(159880, 35)\n"
     ]
    }
   ],
   "source": [
    "addresses = addresses.set_index('address').join(latlons.set_index('address'), how='left')\n",
    "train = train.set_index('ticket_id').join(addresses.set_index('ticket_id'))\n",
    "print(train.head())\n",
    "print(train.shape)"
   ]
  },
  {
   "cell_type": "markdown",
   "metadata": {
    "collapsed": true
   },
   "source": [
    "The same joining has to be applied to the test data set, otherwise we are kinda lost."
   ]
  },
  {
   "cell_type": "code",
   "execution_count": 9,
   "metadata": {
    "collapsed": false,
    "scrolled": true
   },
   "outputs": [
    {
     "name": "stdout",
     "output_type": "stream",
     "text": [
      "                          agency_name      inspector_name       violator_name  \\\n",
      "ticket_id                                                                       \n",
      "284932     Department of Public Works  Granberry, Aisha B    FLUELLEN, JOHN A   \n",
      "285362     Department of Public Works      Lusk, Gertrina     WHIGHAM, THELMA   \n",
      "285361     Department of Public Works      Lusk, Gertrina     WHIGHAM, THELMA   \n",
      "285338     Department of Public Works   Talbert, Reginald  HARABEDIEN, POPKIN   \n",
      "285346     Department of Public Works   Talbert, Reginald    CORBELL, STANLEY   \n",
      "\n",
      "           violation_street_number violation_street_name violation_zip_code  \\\n",
      "ticket_id                                                                     \n",
      "284932                     10041.0             ROSEBERRY                NaN   \n",
      "285362                     18520.0             EVERGREEN                NaN   \n",
      "285361                     18520.0             EVERGREEN                NaN   \n",
      "285338                      1835.0               CENTRAL                NaN   \n",
      "285346                      1700.0               CENTRAL                NaN   \n",
      "\n",
      "          mailing_address_str_number mailing_address_str_name       city  \\\n",
      "ticket_id                                                                  \n",
      "284932                           141                ROSEBERRY    DETROIT   \n",
      "285362                         19136              GLASTONBURY    DETROIT   \n",
      "285361                         19136              GLASTONBURY    DETROIT   \n",
      "285338                          2246                   NELSON  WOODHAVEN   \n",
      "285346                          3435                   MUNGER    LIVONIA   \n",
      "\n",
      "          state    ...     fine_amount  admin_fee state_fee late_fee  \\\n",
      "ticket_id          ...                                                 \n",
      "284932       MI    ...           200.0       20.0      10.0     20.0   \n",
      "285362       MI    ...          1000.0       20.0      10.0    100.0   \n",
      "285361       MI    ...           100.0       20.0      10.0     10.0   \n",
      "285338       MI    ...           200.0       20.0      10.0     20.0   \n",
      "285346       MI    ...           100.0       20.0      10.0     10.0   \n",
      "\n",
      "          discount_amount clean_up_cost judgment_amount grafitti_status  \\\n",
      "ticket_id                                                                 \n",
      "284932                0.0           0.0           250.0             NaN   \n",
      "285362                0.0           0.0          1130.0             NaN   \n",
      "285361                0.0           0.0           140.0             NaN   \n",
      "285338                0.0           0.0           250.0             NaN   \n",
      "285346                0.0           0.0           140.0             NaN   \n",
      "\n",
      "                 lat        lon  \n",
      "ticket_id                        \n",
      "284932     42.407581 -82.986642  \n",
      "285362     42.426239 -83.238259  \n",
      "285361     42.426239 -83.238259  \n",
      "285338     42.309661 -83.122426  \n",
      "285346     42.308830 -83.121116  \n",
      "\n",
      "[5 rows x 28 columns]\n",
      "(61001, 28)\n"
     ]
    }
   ],
   "source": [
    "test = test.set_index('ticket_id').join(addresses.set_index('ticket_id'))\n",
    "print(test.head())\n",
    "print(test.shape)"
   ]
  },
  {
   "cell_type": "code",
   "execution_count": 10,
   "metadata": {
    "collapsed": false
   },
   "outputs": [
    {
     "data": {
      "text/plain": [
       "agency_name                        0\n",
       "inspector_name                     0\n",
       "violator_name                     26\n",
       "violation_street_number            0\n",
       "violation_street_name              0\n",
       "violation_zip_code            159880\n",
       "mailing_address_str_number      2558\n",
       "mailing_address_str_name           3\n",
       "city                               0\n",
       "state                             84\n",
       "zip_code                           1\n",
       "non_us_str_code               159877\n",
       "country                            0\n",
       "ticket_issued_date                 0\n",
       "hearing_date                     227\n",
       "violation_code                     0\n",
       "violation_description              0\n",
       "disposition                        0\n",
       "fine_amount                        0\n",
       "admin_fee                          0\n",
       "state_fee                          0\n",
       "late_fee                           0\n",
       "discount_amount                    0\n",
       "clean_up_cost                      0\n",
       "judgment_amount                    0\n",
       "payment_amount                     0\n",
       "balance_due                        0\n",
       "payment_date                  120269\n",
       "payment_status                     0\n",
       "collection_status             122983\n",
       "grafitti_status               159880\n",
       "compliance_detail                  0\n",
       "compliance                         0\n",
       "lat                                2\n",
       "lon                                2\n",
       "dtype: int64"
      ]
     },
     "execution_count": 10,
     "metadata": {},
     "output_type": "execute_result"
    }
   ],
   "source": [
    "# get an overview of the data set\n",
    "train.describe()\n",
    "# count NA values per column\n",
    "train.isnull().sum()\n",
    "\n",
    "# we can already see that a lot of variables contain too many NA values to be important\n",
    "# we might need those variables later when we subset our train and test data frames"
   ]
  },
  {
   "cell_type": "code",
   "execution_count": 11,
   "metadata": {
    "collapsed": false
   },
   "outputs": [
    {
     "name": "stdout",
     "output_type": "stream",
     "text": [
      "(159880, 35)\n",
      "(61001, 28)\n",
      "Index(['agency_name', 'inspector_name', 'violator_name',\n",
      "       'violation_street_number', 'violation_street_name',\n",
      "       'violation_zip_code', 'mailing_address_str_number',\n",
      "       'mailing_address_str_name', 'city', 'state', 'zip_code',\n",
      "       'non_us_str_code', 'country', 'ticket_issued_date', 'hearing_date',\n",
      "       'violation_code', 'violation_description', 'disposition', 'fine_amount',\n",
      "       'admin_fee', 'state_fee', 'late_fee', 'discount_amount',\n",
      "       'clean_up_cost', 'judgment_amount', 'payment_amount', 'balance_due',\n",
      "       'payment_date', 'payment_status', 'collection_status',\n",
      "       'grafitti_status', 'compliance_detail', 'compliance', 'lat', 'lon'],\n",
      "      dtype='object')\n",
      "Index(['agency_name', 'inspector_name', 'violator_name',\n",
      "       'violation_street_number', 'violation_street_name',\n",
      "       'violation_zip_code', 'mailing_address_str_number',\n",
      "       'mailing_address_str_name', 'city', 'state', 'zip_code',\n",
      "       'non_us_str_code', 'country', 'ticket_issued_date', 'hearing_date',\n",
      "       'violation_code', 'violation_description', 'disposition', 'fine_amount',\n",
      "       'admin_fee', 'state_fee', 'late_fee', 'discount_amount',\n",
      "       'clean_up_cost', 'judgment_amount', 'grafitti_status', 'lat', 'lon'],\n",
      "      dtype='object')\n"
     ]
    }
   ],
   "source": [
    "# We have to keep in mind that our train and test sets have different dimensions!\n",
    "print(train.shape)\n",
    "print(test.shape)\n",
    "train_col = train.columns\n",
    "test_col = test.columns\n",
    "print(train_col)\n",
    "print(test_col)\n",
    "# difference in columns is:\n",
    "diff = list(set(train_col) - set(test_col))"
   ]
  },
  {
   "cell_type": "markdown",
   "metadata": {},
   "source": [
    "This 'diff' list is very important when we subset our train data set later so let's give it the right name now."
   ]
  },
  {
   "cell_type": "code",
   "execution_count": 12,
   "metadata": {
    "collapsed": false
   },
   "outputs": [],
   "source": [
    "var_train_remove = ['payment_date',\n",
    " 'collection_status',\n",
    " 'payment_amount',\n",
    " 'payment_status',\n",
    " 'balance_due',\n",
    " 'compliance_detail']"
   ]
  },
  {
   "cell_type": "markdown",
   "metadata": {},
   "source": [
    "Last but not least we can check how much feature variation there is by calling the unique function on the data set to see how many distinct values we have per column. We use this to both check whether we have to many or to few features. The latter is pretty intuitive, the former is probably not. Just think of the 'violator name' variable. There is considerable variation with 84657 distinct values. Our ML model however is going to interpret this caterogically, i.e. it will create more than 80.000 dummy variables which is not only way to computationally expensive but also feels intuitively wrong. Why would us the name of someone give us information about his ability to pay a fine? Of course it will  not! That is why we exclude the features in `list_variation`."
   ]
  },
  {
   "cell_type": "code",
   "execution_count": 13,
   "metadata": {
    "collapsed": false
   },
   "outputs": [
    {
     "name": "stdout",
     "output_type": "stream",
     "text": [
      "agency_name : 5\n",
      "inspector_name : 159\n",
      "violator_name : 84657\n",
      "violation_street_number : 18096\n",
      "violation_street_name : 1716\n",
      "violation_zip_code : 1\n",
      "mailing_address_str_number : 14091\n",
      "mailing_address_str_name : 28441\n",
      "city : 4093\n",
      "state : 60\n",
      "zip_code : 4623\n",
      "non_us_str_code : 3\n",
      "country : 5\n",
      "ticket_issued_date : 68097\n",
      "hearing_date : 5971\n",
      "violation_code : 189\n",
      "violation_description : 207\n",
      "disposition : 4\n",
      "fine_amount : 40\n",
      "admin_fee : 1\n",
      "state_fee : 1\n",
      "late_fee : 37\n",
      "discount_amount : 13\n",
      "clean_up_cost : 1\n",
      "judgment_amount : 57\n",
      "payment_amount : 522\n",
      "balance_due : 606\n",
      "payment_date : 2308\n",
      "payment_status : 3\n",
      "collection_status : 2\n",
      "grafitti_status : 1\n",
      "compliance_detail : 8\n",
      "compliance : 2\n",
      "lat : 61560\n",
      "lon : 66840\n"
     ]
    }
   ],
   "source": [
    "for column in train:\n",
    "    print(column, \":\" ,len((train[column].unique())))\n",
    "list_variation = ['violator_name', 'violation_street_number', 'violation_street_name',  'city',\n",
    "                 'zip_code', 'mailing_address_str_number', 'mailing_address_str_name', \n",
    "                  'violation description']"
   ]
  },
  {
   "cell_type": "markdown",
   "metadata": {},
   "source": [
    "We can see again that some columns have a lot of variation (probably float types), whereas some others do not, of course categories with lots of NAs which we've seen before may overlap here, but that is no problem since our solution will be to delete them anyway. \n",
    "\n",
    "Further, we can see here however, that a decision tree classifier may be better since there are some categoric variables with lots of variation ('violation_street_name') and decision tree classifiers perform better in that case."
   ]
  },
  {
   "cell_type": "markdown",
   "metadata": {
    "collapsed": true
   },
   "source": [
    "## 2. Feature engineering\n",
    "\n",
    "One of the arguably most important steps in ML is feature engineering. Even though it looks like our data set already _has_ tons of information, we can still think of some features which would be good for our prediction. One could be for instance clustering problematic neighborhoods by looking at local Chicago crime data or check if there is geographical clustering within the fine by checking 'lat' and 'lon' data.\n",
    "\n",
    "Both is kind of complicated and may be overengineering our problem since we only want to achieve an accuracy of +70%. (Plus, the 'lon' and 'lat' data may contain already enough geo information in this case.) What we can imagine however is that the longer the gap between the issuance of the ticket and the hearing date the less likely is someone to be compliant and pay the fee. I have to admit I got this idea by looking at a similar Kaggle competition, but it is a cool feature so we will include it."
   ]
  },
  {
   "cell_type": "code",
   "execution_count": 14,
   "metadata": {
    "collapsed": false
   },
   "outputs": [],
   "source": [
    "from datetime import datetime\n",
    "def time_gap(hear_date, ticket_issued_date):\n",
    "    # convert hearing_date and ticked_date to time formats\n",
    "    if not hear_date or type(hear_date)!=str: return 73\n",
    "    hearing_date = datetime.strptime(hear_date, \"%Y-%m-%d %H:%M:%S\")\n",
    "    ticket_issued = datetime.strptime(ticket_issued_date, \"%Y-%m-%d %H:%M:%S\")\n",
    "    gap = hearing_date - ticket_issued\n",
    "    # return gap in days (works better than hours)\n",
    "    return gap.days\n",
    "\n",
    "# additionally, we have to adjust for our sample time frame\n",
    "gap = datetime.strptime(\"2005-02-22 15:00:00\", \"%Y-%m-%d %H:%M:%S\") - datetime.strptime(\"2004-06-16 12:30:00\", \"%Y-%m-%d %H:%M:%S\")"
   ]
  },
  {
   "cell_type": "markdown",
   "metadata": {},
   "source": [
    "Create the columns in the train and test data set:"
   ]
  },
  {
   "cell_type": "code",
   "execution_count": 15,
   "metadata": {
    "collapsed": false,
    "scrolled": true
   },
   "outputs": [],
   "source": [
    "train = train[~train['hearing_date'].isnull()]\n",
    "train = train[~train['ticket_issued_date'].isnull()]\n",
    "train['time_gap'] = train.apply(lambda row: time_gap(row['hearing_date'], row['ticket_issued_date']), axis=1)\n",
    "test['time_gap'] = test.apply(lambda row: time_gap(row['hearing_date'], row['ticket_issued_date']), axis=1)"
   ]
  },
  {
   "cell_type": "markdown",
   "metadata": {},
   "source": [
    "## 3. Model selection and preprocessing\n",
    "\n",
    "Finally we come to the most interesting part, the model selection! We have seen before that a decission tree model may be better than neural networks. But after all we are quantitative scientists and should (most of the time) follow the numbers. So we will try some baseline models and compare our results.\n",
    "\n",
    "First, let's create our finished training and test data sets so we utilize our preprocessing skills. Spoiler alert: This is going to be messy! Let's collect the variables which should be removed because of 1. high count of NA values and 2. no variation."
   ]
  },
  {
   "cell_type": "code",
   "execution_count": 16,
   "metadata": {
    "collapsed": false,
    "scrolled": false
   },
   "outputs": [
    {
     "name": "stdout",
     "output_type": "stream",
     "text": [
      "['violation_zip_code', 'non_us_str_code', 'mailing_address_str_number', 'ticket_issued_date', 'hearing_date', 'violator_name', 'violation_street_number', 'violation_street_name', 'city', 'zip_code', 'mailing_address_str_number', 'mailing_address_str_name', 'inspector_name', 'country', 'violation_description', 'violation_code', 'grafitti_status']\n"
     ]
    }
   ],
   "source": [
    "list_nas = ['violation_zip_code', 'non_us_str_code', 'mailing_address_str_number']\n",
    "list_feat_eng = ['ticket_issued_date', 'hearing_date']\n",
    "list_variation = ['violator_name', 'violation_street_number', 'violation_street_name',  'city',\n",
    "                 'zip_code', 'mailing_address_str_number', 'mailing_address_str_name', 'inspector_name',\n",
    "                 'country', 'violation_description', 'violation_code', 'grafitti_status']\n",
    "list_all = list_nas + list_feat_eng + list_variation\n",
    "print(list_all)\n",
    "# don't forget the difference between train and test data set columns stored in:\n",
    "# var_train_remove"
   ]
  },
  {
   "cell_type": "code",
   "execution_count": 17,
   "metadata": {
    "collapsed": false
   },
   "outputs": [],
   "source": [
    "# fill up na values\n",
    "train.lat.fillna(method='ffill', inplace=True)\n",
    "train.lon.fillna(method='ffill', inplace=True)\n",
    "train.state.fillna(method='ffill', inplace=True)\n",
    "test.lat.fillna(method='ffill', inplace=True)\n",
    "test.lon.fillna(method='ffill', inplace=True)\n",
    "test.state.fillna(method='ffill', inplace=True)"
   ]
  },
  {
   "cell_type": "code",
   "execution_count": 18,
   "metadata": {
    "collapsed": false
   },
   "outputs": [],
   "source": [
    "train.drop(var_train_remove, axis = 1, inplace = True, errors = 'ignore')\n",
    "train.drop(list_all, axis = 1, inplace = True, errors = 'ignore')\n",
    "test.drop(list_all, axis = 1, inplace = True, errors = 'ignore')"
   ]
  },
  {
   "cell_type": "code",
   "execution_count": 19,
   "metadata": {
    "collapsed": false
   },
   "outputs": [
    {
     "name": "stderr",
     "output_type": "stream",
     "text": [
      "/opt/conda/lib/python3.5/site-packages/ipykernel/__main__.py:22: SettingWithCopyWarning: \n",
      "A value is trying to be set on a copy of a slice from a DataFrame.\n",
      "Try using .loc[row_indexer,col_indexer] = value instead\n",
      "\n",
      "See the caveats in the documentation: http://pandas.pydata.org/pandas-docs/stable/indexing.html#indexing-view-versus-copy\n",
      "/opt/conda/lib/python3.5/site-packages/pandas/core/indexing.py:477: SettingWithCopyWarning: \n",
      "A value is trying to be set on a copy of a slice from a DataFrame.\n",
      "Try using .loc[row_indexer,col_indexer] = value instead\n",
      "\n",
      "See the caveats in the documentation: http://pandas.pydata.org/pandas-docs/stable/indexing.html#indexing-view-versus-copy\n",
      "  self.obj[item] = s\n",
      "/opt/conda/lib/python3.5/site-packages/ipykernel/__main__.py:23: SettingWithCopyWarning: \n",
      "A value is trying to be set on a copy of a slice from a DataFrame.\n",
      "Try using .loc[row_indexer,col_indexer] = value instead\n",
      "\n",
      "See the caveats in the documentation: http://pandas.pydata.org/pandas-docs/stable/indexing.html#indexing-view-versus-copy\n"
     ]
    }
   ],
   "source": [
    "dummy_features = ['agency_name', 'state', 'disposition']\n",
    "\n",
    "train = pd.get_dummies(train, columns = dummy_features)\n",
    "test = pd.get_dummies(test, columns = dummy_features)\n",
    "train_features = train.columns\n",
    "train_features_set = set(train_features)\n",
    "    \n",
    "for feature in set(train_features):\n",
    "    if feature not in test:\n",
    "        train_features_set.remove(feature)\n",
    "train_features = list(train_features_set)\n",
    "    \n",
    "X_train = train[train_features]\n",
    "y_train = train.compliance\n",
    "X_test = test[train_features]\n",
    "\n",
    "from sklearn.preprocessing import MinMaxScaler\n",
    "scaler = MinMaxScaler()\n",
    "X_train[['late_fee', 'judgment_amount', 'clean_up_cost', 'discount_amount', 'time_gap', 'admin_fee', 'state_fee', 'fine_amount']] = scaler.fit_transform(train[['late_fee', 'judgment_amount', 'clean_up_cost', 'discount_amount', 'time_gap', 'admin_fee', 'state_fee', 'fine_amount']])\n",
    "X_test[['late_fee', 'judgment_amount', 'clean_up_cost', 'discount_amount', 'time_gap', 'admin_fee', 'state_fee', 'fine_amount']] = scaler.fit_transform(test[['late_fee', 'judgment_amount', 'clean_up_cost', 'discount_amount', 'time_gap', 'admin_fee', 'state_fee', 'fine_amount']])"
   ]
  },
  {
   "cell_type": "code",
   "execution_count": 29,
   "metadata": {
    "collapsed": false,
    "scrolled": true
   },
   "outputs": [
    {
     "data": {
      "text/plain": [
       "MLPClassifier(activation='relu', alpha=2, batch_size='auto', beta_1=0.9,\n",
       "       beta_2=0.999, early_stopping=False, epsilon=1e-08,\n",
       "       hidden_layer_sizes=[100, 10], learning_rate='constant',\n",
       "       learning_rate_init=0.001, max_iter=200, momentum=0.9,\n",
       "       nesterovs_momentum=True, power_t=0.5, random_state=0, shuffle=True,\n",
       "       solver='lbfgs', tol=0.0001, validation_fraction=0.1, verbose=0,\n",
       "       warm_start=False)"
      ]
     },
     "execution_count": 29,
     "metadata": {},
     "output_type": "execute_result"
    }
   ],
   "source": [
    "from sklearn.neural_network import MLPClassifier\n",
    "nn_clf = MLPClassifier(hidden_layer_sizes = [100, 10], alpha = 2, random_state = 0 , solver= 'lbfgs', verbose = 0)\n",
    "nn_clf.fit(X_train, y_train)"
   ]
  },
  {
   "cell_type": "markdown",
   "metadata": {},
   "source": [
    "Neural Network Accuracy: 0.761010783677.\n",
    "\n",
    "Just over 0.75 which surpasses the required threshold. Let's try the Random Forest Classifier next:"
   ]
  },
  {
   "cell_type": "code",
   "execution_count": 49,
   "metadata": {
    "collapsed": false
   },
   "outputs": [
    {
     "data": {
      "text/plain": [
       "0.99785785422134254"
      ]
     },
     "execution_count": 49,
     "metadata": {},
     "output_type": "execute_result"
    }
   ],
   "source": [
    "from sklearn.ensemble import RandomForestClassifier\n",
    "from sklearn.grid_search import GridSearchCV\n",
    "from sklearn.ensemble import RandomForestRegressor\n",
    "\n",
    "rf_clf = RandomForestClassifier(n_jobs=-1,max_features= 'sqrt' ,n_estimators=50, oob_score = True) \n",
    "\n",
    "param_grid = { \n",
    "    'n_estimators': [200, 700],\n",
    "    'max_features': ['auto', 'sqrt', 'log2']\n",
    "}\n",
    "\n",
    "CV_rfc = GridSearchCV(estimator=rf_clf, param_grid=param_grid, cv= 5)\n",
    "\n",
    "rf_clf.fit(X_train, y_train)\n",
    "rf_clf.score(X_train, y_train)"
   ]
  },
  {
   "cell_type": "code",
   "execution_count": 58,
   "metadata": {
    "collapsed": false
   },
   "outputs": [
    {
     "data": {
      "text/plain": [
       "ticket_id\n",
       "284932    0.260000\n",
       "285362    0.000000\n",
       "285361    0.020000\n",
       "285338    0.300000\n",
       "285346    0.020000\n",
       "285345    0.340000\n",
       "285347    0.100000\n",
       "285342    0.640000\n",
       "285530    0.080000\n",
       "284989    0.040000\n",
       "285344    0.100000\n",
       "285343    0.020000\n",
       "285340    0.020000\n",
       "285341    0.100000\n",
       "285349    0.100000\n",
       "285348    0.200000\n",
       "284991    0.060000\n",
       "285532    0.040000\n",
       "285406    0.000000\n",
       "285001    0.000000\n",
       "285006    0.020000\n",
       "285405    0.000000\n",
       "285337    0.040000\n",
       "285496    0.100000\n",
       "285497    0.500000\n",
       "285378    0.000000\n",
       "285589    0.060000\n",
       "285585    0.340000\n",
       "285501    0.040000\n",
       "285581    0.000000\n",
       "            ...   \n",
       "376367    0.020000\n",
       "376366    0.080000\n",
       "376362    0.200000\n",
       "376363    0.240000\n",
       "376365    0.020000\n",
       "376364    0.080000\n",
       "376228    0.140000\n",
       "376265    0.120000\n",
       "376286    0.580000\n",
       "376320    0.080000\n",
       "376314    0.100000\n",
       "376327    0.880000\n",
       "376385    0.520000\n",
       "376435    0.680000\n",
       "376370    0.660000\n",
       "376434    0.120000\n",
       "376459    0.040000\n",
       "376478    0.000000\n",
       "376473    0.120000\n",
       "376484    0.180000\n",
       "376482    0.080000\n",
       "376480    0.080000\n",
       "376479    0.080000\n",
       "376481    0.080000\n",
       "376483    0.106667\n",
       "376496    0.000000\n",
       "376497    0.000000\n",
       "376499    0.060000\n",
       "376500    0.060000\n",
       "369851    0.600000\n",
       "Name: compliance, dtype: float64"
      ]
     },
     "execution_count": 58,
     "metadata": {},
     "output_type": "execute_result"
    }
   ],
   "source": [
    "test_probs = rf_clf.predict_proba(X_test)[:,1]\n",
    "new_test_df = pd.read_csv('test.csv')\n",
    "new_test_df['compliance'] = test_probs\n",
    "new_test_df.set_index('ticket_id', inplace = True)\n",
    "\n",
    "def blight_model():\n",
    "    return new_test_df.compliance\n",
    "blight_model()"
   ]
  },
  {
   "cell_type": "markdown",
   "metadata": {},
   "source": [
    "This last classifier gets us an accuracy of 0.77798993005 which is better than the neural networks one. However, that difference is not too huge, but a little better, so I will use that as a submission value!\n",
    "\n",
    "Further extensions could be: Try boosted trees, engineer better features, try more grid values, etc."
   ]
  }
 ],
 "metadata": {
  "coursera": {
   "course_slug": "python-machine-learning",
   "graded_item_id": "nNS8l",
   "launcher_item_id": "yWWk7",
   "part_id": "w8BSS"
  },
  "kernelspec": {
   "display_name": "Python 3",
   "language": "python",
   "name": "python3"
  },
  "language_info": {
   "codemirror_mode": {
    "name": "ipython",
    "version": 3
   },
   "file_extension": ".py",
   "mimetype": "text/x-python",
   "name": "python",
   "nbconvert_exporter": "python",
   "pygments_lexer": "ipython3",
   "version": "3.5.2"
  }
 },
 "nbformat": 4,
 "nbformat_minor": 2
}
